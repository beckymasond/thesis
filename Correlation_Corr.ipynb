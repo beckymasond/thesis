{
 "cells": [
  {
   "cell_type": "markdown",
   "metadata": {},
   "source": [
    "## Correlation between Entropy &  CV"
   ]
  },
  {
   "cell_type": "code",
   "execution_count": null,
   "metadata": {
    "collapsed": false
   },
   "outputs": [],
   "source": [
    "import pandas as pd\n",
    "import geopandas as gpd\n",
    "import statsmodels.formula.api as sm\n",
    "import numpy as np\n",
    "import matplotlib.pyplot as plt\n",
    "import math\n",
    "%matplotlib inline\n",
    "\n",
    "# CV values\n",
    "cv = pd.read_csv('C:/users/becky/documents/acs_research/C_results/19740/19740_hous_trials/19740_hous789_input_tracts.csv')\n",
    "# entropy values\n",
    "entropy = gpd.read_file('C:/users/becky/documents/thesis/ent_map.shp')"
   ]
  },
  {
   "cell_type": "code",
   "execution_count": 2,
   "metadata": {
    "collapsed": false
   },
   "outputs": [],
   "source": [
    "# make GEOIDs same format\n",
    "cv['GEOID'] = cv.TID.map(lambda x: x.lstrip('g'))\n",
    "cv['GEOID'] = cv.GEOID.map(lambda x: int(x))\n",
    "entropy.GEOID = entropy.GEOID.map(lambda x: int(x))"
   ]
  },
  {
   "cell_type": "code",
   "execution_count": 3,
   "metadata": {
    "collapsed": false
   },
   "outputs": [
    {
     "data": {
      "text/html": [
       "<div>\n",
       "<table border=\"1\" class=\"dataframe\">\n",
       "  <thead>\n",
       "    <tr style=\"text-align: right;\">\n",
       "      <th></th>\n",
       "      <th>TID</th>\n",
       "      <th>B25024_002E</th>\n",
       "      <th>B25082_001M</th>\n",
       "      <th>B25003_003M</th>\n",
       "      <th>B25024_002M</th>\n",
       "      <th>B25082_001E</th>\n",
       "      <th>B25003_003E</th>\n",
       "      <th>B25019_001M</th>\n",
       "      <th>B25002_002M</th>\n",
       "      <th>B25019_001E</th>\n",
       "      <th>...</th>\n",
       "      <th>avghmvalM</th>\n",
       "      <th>avgrentM</th>\n",
       "      <th>occupiedCV</th>\n",
       "      <th>pctownCV</th>\n",
       "      <th>pctrentCV</th>\n",
       "      <th>snglfmlyCV</th>\n",
       "      <th>avgroomsCV</th>\n",
       "      <th>avghmvalCV</th>\n",
       "      <th>avgrentCV</th>\n",
       "      <th>GEOID</th>\n",
       "    </tr>\n",
       "  </thead>\n",
       "  <tbody>\n",
       "    <tr>\n",
       "      <th>0</th>\n",
       "      <td>g08047013800</td>\n",
       "      <td>2947</td>\n",
       "      <td>93784884.0</td>\n",
       "      <td>129</td>\n",
       "      <td>243</td>\n",
       "      <td>616704600.0</td>\n",
       "      <td>601</td>\n",
       "      <td>1688.0</td>\n",
       "      <td>179</td>\n",
       "      <td>19185.0</td>\n",
       "      <td>...</td>\n",
       "      <td>60671.014576</td>\n",
       "      <td>316.413105</td>\n",
       "      <td>0.062909</td>\n",
       "      <td>0.042752</td>\n",
       "      <td>0.122742</td>\n",
       "      <td>0.022690</td>\n",
       "      <td>0.069703</td>\n",
       "      <td>0.111058</td>\n",
       "      <td>0.181336</td>\n",
       "      <td>8047013800</td>\n",
       "    </tr>\n",
       "    <tr>\n",
       "      <th>1</th>\n",
       "      <td>g08039961209</td>\n",
       "      <td>806</td>\n",
       "      <td>33141552.0</td>\n",
       "      <td>43</td>\n",
       "      <td>54</td>\n",
       "      <td>202224100.0</td>\n",
       "      <td>134</td>\n",
       "      <td>448.0</td>\n",
       "      <td>62</td>\n",
       "      <td>5902.0</td>\n",
       "      <td>...</td>\n",
       "      <td>57495.839216</td>\n",
       "      <td>431.719994</td>\n",
       "      <td>0.025835</td>\n",
       "      <td>0.037121</td>\n",
       "      <td>0.189386</td>\n",
       "      <td>0.011814</td>\n",
       "      <td>0.060402</td>\n",
       "      <td>0.116147</td>\n",
       "      <td>0.280890</td>\n",
       "      <td>8039961209</td>\n",
       "    </tr>\n",
       "    <tr>\n",
       "      <th>2</th>\n",
       "      <td>g08039961208</td>\n",
       "      <td>1164</td>\n",
       "      <td>66750523.0</td>\n",
       "      <td>68</td>\n",
       "      <td>87</td>\n",
       "      <td>436738400.0</td>\n",
       "      <td>156</td>\n",
       "      <td>710.0</td>\n",
       "      <td>79</td>\n",
       "      <td>9195.0</td>\n",
       "      <td>...</td>\n",
       "      <td>74812.869198</td>\n",
       "      <td>1003.038379</td>\n",
       "      <td>0.002496</td>\n",
       "      <td>0.041981</td>\n",
       "      <td>0.261979</td>\n",
       "      <td>0.022081</td>\n",
       "      <td>0.061483</td>\n",
       "      <td>0.109444</td>\n",
       "      <td>0.435735</td>\n",
       "      <td>8039961208</td>\n",
       "    </tr>\n",
       "    <tr>\n",
       "      <th>3</th>\n",
       "      <td>g08039961207</td>\n",
       "      <td>1275</td>\n",
       "      <td>112028414.0</td>\n",
       "      <td>67</td>\n",
       "      <td>87</td>\n",
       "      <td>497525400.0</td>\n",
       "      <td>120</td>\n",
       "      <td>588.0</td>\n",
       "      <td>81</td>\n",
       "      <td>9989.0</td>\n",
       "      <td>...</td>\n",
       "      <td>101791.975812</td>\n",
       "      <td>963.573948</td>\n",
       "      <td>0.026341</td>\n",
       "      <td>0.036456</td>\n",
       "      <td>0.337289</td>\n",
       "      <td>0.031267</td>\n",
       "      <td>0.044983</td>\n",
       "      <td>0.146638</td>\n",
       "      <td>0.511580</td>\n",
       "      <td>8039961207</td>\n",
       "    </tr>\n",
       "    <tr>\n",
       "      <th>4</th>\n",
       "      <td>g08039961206</td>\n",
       "      <td>1188</td>\n",
       "      <td>39127898.0</td>\n",
       "      <td>45</td>\n",
       "      <td>81</td>\n",
       "      <td>360747000.0</td>\n",
       "      <td>41</td>\n",
       "      <td>644.0</td>\n",
       "      <td>89</td>\n",
       "      <td>8975.0</td>\n",
       "      <td>...</td>\n",
       "      <td>44186.614486</td>\n",
       "      <td>NaN</td>\n",
       "      <td>0.033173</td>\n",
       "      <td>0.022003</td>\n",
       "      <td>0.665589</td>\n",
       "      <td>0.025650</td>\n",
       "      <td>0.054431</td>\n",
       "      <td>0.083618</td>\n",
       "      <td>NaN</td>\n",
       "      <td>8039961206</td>\n",
       "    </tr>\n",
       "  </tbody>\n",
       "</table>\n",
       "<p>5 rows × 47 columns</p>\n",
       "</div>"
      ],
      "text/plain": [
       "            TID  B25024_002E  B25082_001M  B25003_003M  B25024_002M  \\\n",
       "0  g08047013800         2947   93784884.0          129          243   \n",
       "1  g08039961209          806   33141552.0           43           54   \n",
       "2  g08039961208         1164   66750523.0           68           87   \n",
       "3  g08039961207         1275  112028414.0           67           87   \n",
       "4  g08039961206         1188   39127898.0           45           81   \n",
       "\n",
       "   B25082_001E  B25003_003E  B25019_001M  B25002_002M  B25019_001E  \\\n",
       "0  616704600.0          601       1688.0          179      19185.0   \n",
       "1  202224100.0          134        448.0           62       5902.0   \n",
       "2  436738400.0          156        710.0           79       9195.0   \n",
       "3  497525400.0          120        588.0           81       9989.0   \n",
       "4  360747000.0           41        644.0           89       8975.0   \n",
       "\n",
       "      ...          avghmvalM     avgrentM  occupiedCV  pctownCV  pctrentCV  \\\n",
       "0     ...       60671.014576   316.413105    0.062909  0.042752   0.122742   \n",
       "1     ...       57495.839216   431.719994    0.025835  0.037121   0.189386   \n",
       "2     ...       74812.869198  1003.038379    0.002496  0.041981   0.261979   \n",
       "3     ...      101791.975812   963.573948    0.026341  0.036456   0.337289   \n",
       "4     ...       44186.614486          NaN    0.033173  0.022003   0.665589   \n",
       "\n",
       "   snglfmlyCV  avgroomsCV  avghmvalCV  avgrentCV       GEOID  \n",
       "0    0.022690    0.069703    0.111058   0.181336  8047013800  \n",
       "1    0.011814    0.060402    0.116147   0.280890  8039961209  \n",
       "2    0.022081    0.061483    0.109444   0.435735  8039961208  \n",
       "3    0.031267    0.044983    0.146638   0.511580  8039961207  \n",
       "4    0.025650    0.054431    0.083618        NaN  8039961206  \n",
       "\n",
       "[5 rows x 47 columns]"
      ]
     },
     "execution_count": 3,
     "metadata": {},
     "output_type": "execute_result"
    }
   ],
   "source": [
    "# entropy values are GEOID and entropy\n",
    "entropy.head()\n",
    "# cv values are occupiedCV, pctownCV, pctrentCV, snglfmlyCV, avgroomsCV, avghmvalCV, avgrentCV\n",
    "cv.head()"
   ]
  },
  {
   "cell_type": "code",
   "execution_count": 4,
   "metadata": {
    "collapsed": false
   },
   "outputs": [
    {
     "data": {
      "text/html": [
       "<div>\n",
       "<table border=\"1\" class=\"dataframe\">\n",
       "  <thead>\n",
       "    <tr style=\"text-align: right;\">\n",
       "      <th></th>\n",
       "      <th>entropy</th>\n",
       "      <th>occupiedCV</th>\n",
       "      <th>pctownCV</th>\n",
       "      <th>pctrentCV</th>\n",
       "      <th>snglfmlyCV</th>\n",
       "      <th>avgroomsCV</th>\n",
       "      <th>avghmvalCV</th>\n",
       "      <th>avgrentCV</th>\n",
       "    </tr>\n",
       "  </thead>\n",
       "  <tbody>\n",
       "    <tr>\n",
       "      <th>0</th>\n",
       "      <td>0.782054</td>\n",
       "      <td>0.062909</td>\n",
       "      <td>0.042752</td>\n",
       "      <td>0.122742</td>\n",
       "      <td>0.022690</td>\n",
       "      <td>0.069703</td>\n",
       "      <td>0.111058</td>\n",
       "      <td>0.181336</td>\n",
       "    </tr>\n",
       "    <tr>\n",
       "      <th>1</th>\n",
       "      <td>0.777942</td>\n",
       "      <td>0.025835</td>\n",
       "      <td>0.037121</td>\n",
       "      <td>0.189386</td>\n",
       "      <td>0.011814</td>\n",
       "      <td>0.060402</td>\n",
       "      <td>0.116147</td>\n",
       "      <td>0.280890</td>\n",
       "    </tr>\n",
       "    <tr>\n",
       "      <th>2</th>\n",
       "      <td>0.902238</td>\n",
       "      <td>0.002496</td>\n",
       "      <td>0.041981</td>\n",
       "      <td>0.261979</td>\n",
       "      <td>0.022081</td>\n",
       "      <td>0.061483</td>\n",
       "      <td>0.109444</td>\n",
       "      <td>0.435735</td>\n",
       "    </tr>\n",
       "    <tr>\n",
       "      <th>3</th>\n",
       "      <td>0.847425</td>\n",
       "      <td>0.026341</td>\n",
       "      <td>0.036456</td>\n",
       "      <td>0.337289</td>\n",
       "      <td>0.031267</td>\n",
       "      <td>0.044983</td>\n",
       "      <td>0.146638</td>\n",
       "      <td>0.511580</td>\n",
       "    </tr>\n",
       "    <tr>\n",
       "      <th>4</th>\n",
       "      <td>0.873858</td>\n",
       "      <td>0.033173</td>\n",
       "      <td>0.022003</td>\n",
       "      <td>0.665589</td>\n",
       "      <td>0.025650</td>\n",
       "      <td>0.054431</td>\n",
       "      <td>0.083618</td>\n",
       "      <td>NaN</td>\n",
       "    </tr>\n",
       "  </tbody>\n",
       "</table>\n",
       "</div>"
      ],
      "text/plain": [
       "    entropy  occupiedCV  pctownCV  pctrentCV  snglfmlyCV  avgroomsCV  \\\n",
       "0  0.782054    0.062909  0.042752   0.122742    0.022690    0.069703   \n",
       "1  0.777942    0.025835  0.037121   0.189386    0.011814    0.060402   \n",
       "2  0.902238    0.002496  0.041981   0.261979    0.022081    0.061483   \n",
       "3  0.847425    0.026341  0.036456   0.337289    0.031267    0.044983   \n",
       "4  0.873858    0.033173  0.022003   0.665589    0.025650    0.054431   \n",
       "\n",
       "   avghmvalCV  avgrentCV  \n",
       "0    0.111058   0.181336  \n",
       "1    0.116147   0.280890  \n",
       "2    0.109444   0.435735  \n",
       "3    0.146638   0.511580  \n",
       "4    0.083618        NaN  "
      ]
     },
     "execution_count": 4,
     "metadata": {},
     "output_type": "execute_result"
    }
   ],
   "source": [
    "df = pd.merge(cv, entropy, on=[\"GEOID\"])\n",
    "df1 = df[['entropy', 'occupiedCV', 'pctownCV', 'pctrentCV', 'snglfmlyCV', 'avgroomsCV', 'avghmvalCV', 'avgrentCV']]\n",
    "# remove rows with null values\n",
    "df1 = df1.replace([np.inf, -np.inf], np.nan)\n",
    "df1.head()"
   ]
  },
  {
   "cell_type": "code",
   "execution_count": 5,
   "metadata": {
    "collapsed": false
   },
   "outputs": [
    {
     "name": "stdout",
     "output_type": "stream",
     "text": [
      "                            OLS Regression Results                            \n",
      "==============================================================================\n",
      "Dep. Variable:                entropy   R-squared:                       0.003\n",
      "Model:                            OLS   Adj. R-squared:                 -0.009\n",
      "Method:                 Least Squares   F-statistic:                    0.2528\n",
      "Date:                Fri, 18 Nov 2016   Prob (F-statistic):              0.971\n",
      "Time:                        07:32:22   Log-Likelihood:                 344.69\n",
      "No. Observations:                 561   AIC:                            -673.4\n",
      "Df Residuals:                     553   BIC:                            -638.7\n",
      "Df Model:                           7                                         \n",
      "Covariance Type:            nonrobust                                         \n",
      "==============================================================================\n",
      "                 coef    std err          t      P>|t|      [95.0% Conf. Int.]\n",
      "------------------------------------------------------------------------------\n",
      "Intercept      0.7277      0.023     31.525      0.000         0.682     0.773\n",
      "occupiedCV    -0.0206      0.471     -0.044      0.965        -0.947     0.906\n",
      "pctownCV      -0.0884      0.323     -0.273      0.785        -0.723     0.546\n",
      "pctrentCV     -0.3322      0.383     -0.868      0.386        -1.084     0.419\n",
      "snglfmlyCV     0.0128      0.056      0.229      0.819        -0.097     0.123\n",
      "avgroomsCV     0.1161      0.389      0.298      0.765        -0.648     0.880\n",
      "avghmvalCV    -0.0856      0.187     -0.457      0.648        -0.453     0.282\n",
      "avgrentCV      0.2222      0.271      0.821      0.412        -0.309     0.754\n",
      "==============================================================================\n",
      "Omnibus:                      120.924   Durbin-Watson:                   1.966\n",
      "Prob(Omnibus):                  0.000   Jarque-Bera (JB):              240.514\n",
      "Skew:                          -1.195   Prob(JB):                     5.93e-53\n",
      "Kurtosis:                       5.140   Cond. No.                         96.5\n",
      "==============================================================================\n",
      "\n",
      "Warnings:\n",
      "[1] Standard Errors assume that the covariance matrix of the errors is correctly specified.\n"
     ]
    }
   ],
   "source": [
    "result = sm.ols(formula=\"entropy ~ occupiedCV + pctownCV + pctrentCV + snglfmlyCV + avgroomsCV + avghmvalCV + avgrentCV\", data=df1, missing='drop').fit()\n",
    "print result.summary()"
   ]
  },
  {
   "cell_type": "code",
   "execution_count": 18,
   "metadata": {
    "collapsed": false
   },
   "outputs": [
    {
     "name": "stdout",
     "output_type": "stream",
     "text": [
      "                            GLS Regression Results                            \n",
      "==============================================================================\n",
      "Dep. Variable:                entropy   R-squared:                       0.003\n",
      "Model:                            GLS   Adj. R-squared:                 -0.009\n",
      "Method:                 Least Squares   F-statistic:                    0.2528\n",
      "Date:                Fri, 18 Nov 2016   Prob (F-statistic):              0.971\n",
      "Time:                        07:39:01   Log-Likelihood:                 344.69\n",
      "No. Observations:                 561   AIC:                            -673.4\n",
      "Df Residuals:                     553   BIC:                            -638.7\n",
      "Df Model:                           7                                         \n",
      "Covariance Type:            nonrobust                                         \n",
      "==============================================================================\n",
      "                 coef    std err          t      P>|t|      [95.0% Conf. Int.]\n",
      "------------------------------------------------------------------------------\n",
      "Intercept      0.7277      0.023     31.525      0.000         0.682     0.773\n",
      "occupiedCV    -0.0206      0.471     -0.044      0.965        -0.947     0.906\n",
      "pctownCV      -0.0884      0.323     -0.273      0.785        -0.723     0.546\n",
      "pctrentCV     -0.3322      0.383     -0.868      0.386        -1.084     0.419\n",
      "snglfmlyCV     0.0128      0.056      0.229      0.819        -0.097     0.123\n",
      "avgroomsCV     0.1161      0.389      0.298      0.765        -0.648     0.880\n",
      "avghmvalCV    -0.0856      0.187     -0.457      0.648        -0.453     0.282\n",
      "avgrentCV      0.2222      0.271      0.821      0.412        -0.309     0.754\n",
      "==============================================================================\n",
      "Omnibus:                      120.924   Durbin-Watson:                   1.966\n",
      "Prob(Omnibus):                  0.000   Jarque-Bera (JB):              240.514\n",
      "Skew:                          -1.195   Prob(JB):                     5.93e-53\n",
      "Kurtosis:                       5.140   Cond. No.                         96.5\n",
      "==============================================================================\n",
      "\n",
      "Warnings:\n",
      "[1] Standard Errors assume that the covariance matrix of the errors is correctly specified.\n"
     ]
    }
   ],
   "source": [
    "result = sm.gls(formula=\"entropy ~ occupiedCV + pctownCV + pctrentCV + snglfmlyCV + avgroomsCV + avghmvalCV + avgrentCV\", data=df1, missing='drop').fit()\n",
    "print result.summary()"
   ]
  },
  {
   "cell_type": "code",
   "execution_count": 47,
   "metadata": {
    "collapsed": false
   },
   "outputs": [
    {
     "data": {
      "text/plain": [
       "(array([   3.,    1.,    4.,  130.,  200.,  133.,   89.,   42.,    9.,    3.]),\n",
       " array([-67.98256863, -54.54065511, -41.0987416 , -27.65682809,\n",
       "        -14.21491458,  -0.77300106,  12.66891245,  26.11082596,\n",
       "         39.55273947,  52.99465299,  66.4365665 ]),\n",
       " <a list of 10 Patch objects>)"
      ]
     },
     "execution_count": 47,
     "metadata": {},
     "output_type": "execute_result"
    },
    {
     "data": {
      "image/png": "[encoded data removed]",
      "text/plain": [
       "<matplotlib.figure.Figure at 0x14d56eb8>"
      ]
     },
     "metadata": {},
     "output_type": "display_data"
    }
   ],
   "source": [
    "plt.hist(result.resid.values)"
   ]
  },
  {
   "cell_type": "code",
   "execution_count": 15,
   "metadata": {
    "collapsed": false
   },
   "outputs": [
    {
     "data": {
      "text/plain": [
       "(array([  0.,   0.,   0.,   0.,   2.,   0.,   1.,   4.,   1.,   1.,   4.,\n",
       "          3.,   4.,  13.,   8.,  12.,  19.,  21.,  37.,  43.,  59.,  48.,\n",
       "         67.,  79.,  68.,  66.,  34.,  16.,   3.,   0.]),\n",
       " array([ 0.        ,  0.03333333,  0.06666667,  0.1       ,  0.13333333,\n",
       "         0.16666667,  0.2       ,  0.23333333,  0.26666667,  0.3       ,\n",
       "         0.33333333,  0.36666667,  0.4       ,  0.43333333,  0.46666667,\n",
       "         0.5       ,  0.53333333,  0.56666667,  0.6       ,  0.63333333,\n",
       "         0.66666667,  0.7       ,  0.73333333,  0.76666667,  0.8       ,\n",
       "         0.83333333,  0.86666667,  0.9       ,  0.93333333,  0.96666667,  1.        ]),\n",
       " <a list of 30 Patch objects>)"
      ]
     },
     "execution_count": 15,
     "metadata": {},
     "output_type": "execute_result"
    },
    {
     "data": {
      "image/png": "[encoded data removed]",
      "text/plain": [
       "<matplotlib.figure.Figure at 0x13ca8e48>"
      ]
     },
     "metadata": {},
     "output_type": "display_data"
    }
   ],
   "source": [
    "plt.hist(entropy.entropy.values, bins=30, range=(0,1))"
   ]
  },
  {
   "cell_type": "markdown",
   "metadata": {
    "collapsed": true
   },
   "source": [
    "## Correlation between Degree & Co-occurrence rate, Degree & Entropy, Entropy & Co-oc Rate"
   ]
  },
  {
   "cell_type": "markdown",
   "metadata": {},
   "source": [
    "### Degree & Entropy"
   ]
  },
  {
   "cell_type": "code",
   "execution_count": 21,
   "metadata": {
    "collapsed": false
   },
   "outputs": [
    {
     "data": {
      "text/html": [
       "<div>\n",
       "<table border=\"1\" class=\"dataframe\">\n",
       "  <thead>\n",
       "    <tr style=\"text-align: right;\">\n",
       "      <th></th>\n",
       "      <th>COUNTYFP</th>\n",
       "      <th>FUNCSTAT</th>\n",
       "      <th>GEOID</th>\n",
       "      <th>INTPTLAT</th>\n",
       "      <th>INTPTLON</th>\n",
       "      <th>MTFCC</th>\n",
       "      <th>NAME</th>\n",
       "      <th>NAMELSAD</th>\n",
       "      <th>RID</th>\n",
       "      <th>STATEFP</th>\n",
       "      <th>TRACTCE</th>\n",
       "      <th>code</th>\n",
       "      <th>entropy</th>\n",
       "      <th>geometry</th>\n",
       "    </tr>\n",
       "  </thead>\n",
       "  <tbody>\n",
       "    <tr>\n",
       "      <th>0</th>\n",
       "      <td>047</td>\n",
       "      <td>S</td>\n",
       "      <td>8047013800</td>\n",
       "      <td>+39.8610823</td>\n",
       "      <td>-105.5289473</td>\n",
       "      <td>G5020</td>\n",
       "      <td>138</td>\n",
       "      <td>Census Tract 138</td>\n",
       "      <td>57</td>\n",
       "      <td>08</td>\n",
       "      <td>013800</td>\n",
       "      <td>08047</td>\n",
       "      <td>0.782054</td>\n",
       "      <td>POLYGON ((-105.700784 39.878889, -105.700777 3...</td>\n",
       "    </tr>\n",
       "    <tr>\n",
       "      <th>1</th>\n",
       "      <td>039</td>\n",
       "      <td>S</td>\n",
       "      <td>8039961209</td>\n",
       "      <td>+39.2219883</td>\n",
       "      <td>-104.5372888</td>\n",
       "      <td>G5020</td>\n",
       "      <td>9612.09</td>\n",
       "      <td>Census Tract 9612.09</td>\n",
       "      <td>40</td>\n",
       "      <td>08</td>\n",
       "      <td>961209</td>\n",
       "      <td>08039</td>\n",
       "      <td>0.777942</td>\n",
       "      <td>POLYGON ((-104.662911 39.13184, -104.662929 39...</td>\n",
       "    </tr>\n",
       "    <tr>\n",
       "      <th>2</th>\n",
       "      <td>039</td>\n",
       "      <td>S</td>\n",
       "      <td>8039961208</td>\n",
       "      <td>+39.3047374</td>\n",
       "      <td>-104.5835294</td>\n",
       "      <td>G5020</td>\n",
       "      <td>9612.08</td>\n",
       "      <td>Census Tract 9612.08</td>\n",
       "      <td>19</td>\n",
       "      <td>08</td>\n",
       "      <td>961208</td>\n",
       "      <td>08039</td>\n",
       "      <td>0.902238</td>\n",
       "      <td>POLYGON ((-104.662955 39.216802, -104.662947 3...</td>\n",
       "    </tr>\n",
       "    <tr>\n",
       "      <th>3</th>\n",
       "      <td>039</td>\n",
       "      <td>S</td>\n",
       "      <td>8039961207</td>\n",
       "      <td>+39.4108496</td>\n",
       "      <td>-104.5420129</td>\n",
       "      <td>G5020</td>\n",
       "      <td>9612.07</td>\n",
       "      <td>Census Tract 9612.07</td>\n",
       "      <td>19</td>\n",
       "      <td>08</td>\n",
       "      <td>961207</td>\n",
       "      <td>08039</td>\n",
       "      <td>0.847425</td>\n",
       "      <td>POLYGON ((-104.606923 39.361336, -104.606833 3...</td>\n",
       "    </tr>\n",
       "    <tr>\n",
       "      <th>4</th>\n",
       "      <td>039</td>\n",
       "      <td>S</td>\n",
       "      <td>8039961206</td>\n",
       "      <td>+39.4125779</td>\n",
       "      <td>-104.6348187</td>\n",
       "      <td>G5020</td>\n",
       "      <td>9612.06</td>\n",
       "      <td>Census Tract 9612.06</td>\n",
       "      <td>68</td>\n",
       "      <td>08</td>\n",
       "      <td>961206</td>\n",
       "      <td>08039</td>\n",
       "      <td>0.873858</td>\n",
       "      <td>POLYGON ((-104.663196 39.362143, -104.663198 3...</td>\n",
       "    </tr>\n",
       "  </tbody>\n",
       "</table>\n",
       "</div>"
      ],
      "text/plain": [
       "  COUNTYFP FUNCSTAT       GEOID     INTPTLAT      INTPTLON  MTFCC     NAME  \\\n",
       "0      047        S  8047013800  +39.8610823  -105.5289473  G5020      138   \n",
       "1      039        S  8039961209  +39.2219883  -104.5372888  G5020  9612.09   \n",
       "2      039        S  8039961208  +39.3047374  -104.5835294  G5020  9612.08   \n",
       "3      039        S  8039961207  +39.4108496  -104.5420129  G5020  9612.07   \n",
       "4      039        S  8039961206  +39.4125779  -104.6348187  G5020  9612.06   \n",
       "\n",
       "               NAMELSAD  RID STATEFP TRACTCE   code   entropy  \\\n",
       "0      Census Tract 138   57      08  013800  08047  0.782054   \n",
       "1  Census Tract 9612.09   40      08  961209  08039  0.777942   \n",
       "2  Census Tract 9612.08   19      08  961208  08039  0.902238   \n",
       "3  Census Tract 9612.07   19      08  961207  08039  0.847425   \n",
       "4  Census Tract 9612.06   68      08  961206  08039  0.873858   \n",
       "\n",
       "                                            geometry  \n",
       "0  POLYGON ((-105.700784 39.878889, -105.700777 3...  \n",
       "1  POLYGON ((-104.662911 39.13184, -104.662929 39...  \n",
       "2  POLYGON ((-104.662955 39.216802, -104.662947 3...  \n",
       "3  POLYGON ((-104.606923 39.361336, -104.606833 3...  \n",
       "4  POLYGON ((-104.663196 39.362143, -104.663198 3...  "
      ]
     },
     "execution_count": 21,
     "metadata": {},
     "output_type": "execute_result"
    }
   ],
   "source": [
    "# entropy measure\n",
    "entropy.head()"
   ]
  },
  {
   "cell_type": "code",
   "execution_count": 22,
   "metadata": {
    "collapsed": true
   },
   "outputs": [],
   "source": [
    "# Degree\n",
    "a = pd.read_csv('C:/users/becky/documents/thesis/degree_hous_19740.csv')"
   ]
  },
  {
   "cell_type": "code",
   "execution_count": 23,
   "metadata": {
    "collapsed": false
   },
   "outputs": [],
   "source": [
    "a = a[['GEOID', 'degree']]\n",
    "a.GEOID = a.GEOID.map(lambda x: int(x.lstrip('g')))"
   ]
  },
  {
   "cell_type": "code",
   "execution_count": 24,
   "metadata": {
    "collapsed": false
   },
   "outputs": [],
   "source": [
    "ab = pd.merge(a, entropy, on=[\"GEOID\"])"
   ]
  },
  {
   "cell_type": "code",
   "execution_count": 25,
   "metadata": {
    "collapsed": false
   },
   "outputs": [
    {
     "name": "stdout",
     "output_type": "stream",
     "text": [
      "                            OLS Regression Results                            \n",
      "==============================================================================\n",
      "Dep. Variable:                entropy   R-squared:                       0.005\n",
      "Model:                            OLS   Adj. R-squared:                  0.003\n",
      "Method:                 Least Squares   F-statistic:                     3.037\n",
      "Date:                Fri, 18 Nov 2016   Prob (F-statistic):             0.0819\n",
      "Time:                        08:30:47   Log-Likelihood:                 370.06\n",
      "No. Observations:                 607   AIC:                            -736.1\n",
      "Df Residuals:                     605   BIC:                            -727.3\n",
      "Df Model:                           1                                         \n",
      "Covariance Type:            nonrobust                                         \n",
      "==============================================================================\n",
      "                 coef    std err          t      P>|t|      [95.0% Conf. Int.]\n",
      "------------------------------------------------------------------------------\n",
      "Intercept      0.7029      0.011     64.848      0.000         0.682     0.724\n",
      "degree         0.0005      0.000      1.743      0.082     -5.81e-05     0.001\n",
      "==============================================================================\n",
      "Omnibus:                      125.283   Durbin-Watson:                   1.879\n",
      "Prob(Omnibus):                  0.000   Jarque-Bera (JB):              239.975\n",
      "Skew:                          -1.173   Prob(JB):                     7.76e-53\n",
      "Kurtosis:                       4.996   Cond. No.                         83.6\n",
      "==============================================================================\n",
      "\n",
      "Warnings:\n",
      "[1] Standard Errors assume that the covariance matrix of the errors is correctly specified.\n"
     ]
    }
   ],
   "source": [
    "result = sm.ols(formula=\"entropy ~ degree\", data=ab, missing='drop').fit()\n",
    "print result.summary()"
   ]
  },
  {
   "cell_type": "code",
   "execution_count": 26,
   "metadata": {
    "collapsed": false
   },
   "outputs": [],
   "source": [
    "ab['log_ent'] = ab.entropy.map(lambda x: math.log(x))\n",
    "ab['log_deg'] = ab.degree.map(lambda x: math.log(x))"
   ]
  },
  {
   "cell_type": "code",
   "execution_count": 27,
   "metadata": {
    "collapsed": false
   },
   "outputs": [
    {
     "data": {
      "text/plain": [
       "<matplotlib.collections.PathCollection at 0x139b7f60>"
      ]
     },
     "execution_count": 27,
     "metadata": {},
     "output_type": "execute_result"
    },
    {
     "data": {
      "image/png": "[encoded data removed]",
      "text/plain": [
       "<matplotlib.figure.Figure at 0x13617dd8>"
      ]
     },
     "metadata": {},
     "output_type": "display_data"
    }
   ],
   "source": [
    "plt.scatter(ab.entropy, ab.degree)"
   ]
  },
  {
   "cell_type": "markdown",
   "metadata": {},
   "source": [
    "## Entropy & Co-occurrence rate"
   ]
  },
  {
   "cell_type": "code",
   "execution_count": 28,
   "metadata": {
    "collapsed": false
   },
   "outputs": [
    {
     "data": {
      "text/html": [
       "<div>\n",
       "<table border=\"1\" class=\"dataframe\">\n",
       "  <thead>\n",
       "    <tr style=\"text-align: right;\">\n",
       "      <th></th>\n",
       "      <th>COUNTYFP</th>\n",
       "      <th>FUNCSTAT</th>\n",
       "      <th>GEOID</th>\n",
       "      <th>INTPTLAT</th>\n",
       "      <th>INTPTLON</th>\n",
       "      <th>MTFCC</th>\n",
       "      <th>NAME</th>\n",
       "      <th>NAMELSAD</th>\n",
       "      <th>RID</th>\n",
       "      <th>STATEFP</th>\n",
       "      <th>TRACTCE</th>\n",
       "      <th>code</th>\n",
       "      <th>geometry</th>\n",
       "      <th>rate</th>\n",
       "    </tr>\n",
       "  </thead>\n",
       "  <tbody>\n",
       "    <tr>\n",
       "      <th>0</th>\n",
       "      <td>047</td>\n",
       "      <td>S</td>\n",
       "      <td>8047013800</td>\n",
       "      <td>+39.8610823</td>\n",
       "      <td>-105.5289473</td>\n",
       "      <td>G5020</td>\n",
       "      <td>138</td>\n",
       "      <td>Census Tract 138</td>\n",
       "      <td>57</td>\n",
       "      <td>08</td>\n",
       "      <td>013800</td>\n",
       "      <td>08047</td>\n",
       "      <td>POLYGON ((-105.700784 39.878889, -105.700777 3...</td>\n",
       "      <td>0.070000</td>\n",
       "    </tr>\n",
       "    <tr>\n",
       "      <th>1</th>\n",
       "      <td>039</td>\n",
       "      <td>S</td>\n",
       "      <td>8039961209</td>\n",
       "      <td>+39.2219883</td>\n",
       "      <td>-104.5372888</td>\n",
       "      <td>G5020</td>\n",
       "      <td>9612.09</td>\n",
       "      <td>Census Tract 9612.09</td>\n",
       "      <td>40</td>\n",
       "      <td>08</td>\n",
       "      <td>961209</td>\n",
       "      <td>08039</td>\n",
       "      <td>POLYGON ((-104.662911 39.13184, -104.662929 39...</td>\n",
       "      <td>0.120000</td>\n",
       "    </tr>\n",
       "    <tr>\n",
       "      <th>2</th>\n",
       "      <td>039</td>\n",
       "      <td>S</td>\n",
       "      <td>8039961208</td>\n",
       "      <td>+39.3047374</td>\n",
       "      <td>-104.5835294</td>\n",
       "      <td>G5020</td>\n",
       "      <td>9612.08</td>\n",
       "      <td>Census Tract 9612.08</td>\n",
       "      <td>19</td>\n",
       "      <td>08</td>\n",
       "      <td>961208</td>\n",
       "      <td>08039</td>\n",
       "      <td>POLYGON ((-104.662955 39.216802, -104.662947 3...</td>\n",
       "      <td>0.140000</td>\n",
       "    </tr>\n",
       "    <tr>\n",
       "      <th>3</th>\n",
       "      <td>039</td>\n",
       "      <td>S</td>\n",
       "      <td>8039961207</td>\n",
       "      <td>+39.4108496</td>\n",
       "      <td>-104.5420129</td>\n",
       "      <td>G5020</td>\n",
       "      <td>9612.07</td>\n",
       "      <td>Census Tract 9612.07</td>\n",
       "      <td>19</td>\n",
       "      <td>08</td>\n",
       "      <td>961207</td>\n",
       "      <td>08039</td>\n",
       "      <td>POLYGON ((-104.606923 39.361336, -104.606833 3...</td>\n",
       "      <td>0.180000</td>\n",
       "    </tr>\n",
       "    <tr>\n",
       "      <th>4</th>\n",
       "      <td>039</td>\n",
       "      <td>S</td>\n",
       "      <td>8039961206</td>\n",
       "      <td>+39.4125779</td>\n",
       "      <td>-104.6348187</td>\n",
       "      <td>G5020</td>\n",
       "      <td>9612.06</td>\n",
       "      <td>Census Tract 9612.06</td>\n",
       "      <td>68</td>\n",
       "      <td>08</td>\n",
       "      <td>961206</td>\n",
       "      <td>08039</td>\n",
       "      <td>POLYGON ((-104.663196 39.362143, -104.663198 3...</td>\n",
       "      <td>0.149425</td>\n",
       "    </tr>\n",
       "  </tbody>\n",
       "</table>\n",
       "</div>"
      ],
      "text/plain": [
       "  COUNTYFP FUNCSTAT       GEOID     INTPTLAT      INTPTLON  MTFCC     NAME  \\\n",
       "0      047        S  8047013800  +39.8610823  -105.5289473  G5020      138   \n",
       "1      039        S  8039961209  +39.2219883  -104.5372888  G5020  9612.09   \n",
       "2      039        S  8039961208  +39.3047374  -104.5835294  G5020  9612.08   \n",
       "3      039        S  8039961207  +39.4108496  -104.5420129  G5020  9612.07   \n",
       "4      039        S  8039961206  +39.4125779  -104.6348187  G5020  9612.06   \n",
       "\n",
       "               NAMELSAD  RID STATEFP TRACTCE   code  \\\n",
       "0      Census Tract 138   57      08  013800  08047   \n",
       "1  Census Tract 9612.09   40      08  961209  08039   \n",
       "2  Census Tract 9612.08   19      08  961208  08039   \n",
       "3  Census Tract 9612.07   19      08  961207  08039   \n",
       "4  Census Tract 9612.06   68      08  961206  08039   \n",
       "\n",
       "                                            geometry      rate  \n",
       "0  POLYGON ((-105.700784 39.878889, -105.700777 3...  0.070000  \n",
       "1  POLYGON ((-104.662911 39.13184, -104.662929 39...  0.120000  \n",
       "2  POLYGON ((-104.662955 39.216802, -104.662947 3...  0.140000  \n",
       "3  POLYGON ((-104.606923 39.361336, -104.606833 3...  0.180000  \n",
       "4  POLYGON ((-104.663196 39.362143, -104.663198 3...  0.149425  "
      ]
     },
     "execution_count": 28,
     "metadata": {},
     "output_type": "execute_result"
    }
   ],
   "source": [
    "# read co-oc rate\n",
    "cooc = gpd.read_file('C:/users/becky/documents/thesis/rate_map.shp')\n",
    "cooc.GEOID = cooc.GEOID.map(lambda x: int(x))\n",
    "cooc.head()"
   ]
  },
  {
   "cell_type": "code",
   "execution_count": 29,
   "metadata": {
    "collapsed": true
   },
   "outputs": [],
   "source": [
    "bc = pd.merge(cooc, entropy, on=[\"GEOID\"])"
   ]
  },
  {
   "cell_type": "code",
   "execution_count": 32,
   "metadata": {
    "collapsed": false
   },
   "outputs": [],
   "source": [
    "bc['log_ent'] = bc.entropy.map(lambda x: math.log(x))\n",
    "bc['log_rate'] = bc.rate.map(lambda x: math.log(x))"
   ]
  },
  {
   "cell_type": "code",
   "execution_count": 33,
   "metadata": {
    "collapsed": false
   },
   "outputs": [
    {
     "name": "stdout",
     "output_type": "stream",
     "text": [
      "                            OLS Regression Results                            \n",
      "==============================================================================\n",
      "Dep. Variable:                entropy   R-squared:                       0.006\n",
      "Model:                            OLS   Adj. R-squared:                  0.004\n",
      "Method:                 Least Squares   F-statistic:                     3.602\n",
      "Date:                Fri, 18 Nov 2016   Prob (F-statistic):             0.0582\n",
      "Time:                        08:31:03   Log-Likelihood:                 370.34\n",
      "No. Observations:                 607   AIC:                            -736.7\n",
      "Df Residuals:                     605   BIC:                            -727.9\n",
      "Df Model:                           1                                         \n",
      "Covariance Type:            nonrobust                                         \n",
      "==============================================================================\n",
      "                 coef    std err          t      P>|t|      [95.0% Conf. Int.]\n",
      "------------------------------------------------------------------------------\n",
      "Intercept      0.7752      0.030     25.909      0.000         0.716     0.834\n",
      "log_rate       0.0240      0.013      1.898      0.058        -0.001     0.049\n",
      "==============================================================================\n",
      "Omnibus:                      126.234   Durbin-Watson:                   1.914\n",
      "Prob(Omnibus):                  0.000   Jarque-Bera (JB):              241.916\n",
      "Skew:                          -1.181   Prob(JB):                     2.94e-53\n",
      "Kurtosis:                       4.995   Cond. No.                         15.5\n",
      "==============================================================================\n",
      "\n",
      "Warnings:\n",
      "[1] Standard Errors assume that the covariance matrix of the errors is correctly specified.\n"
     ]
    }
   ],
   "source": [
    "result = sm.ols(formula=\"entropy ~ log_rate\", data=bc, missing='drop').fit()\n",
    "print result.summary()"
   ]
  },
  {
   "cell_type": "code",
   "execution_count": 34,
   "metadata": {
    "collapsed": false
   },
   "outputs": [
    {
     "data": {
      "text/plain": [
       "<matplotlib.collections.PathCollection at 0x144b2f60>"
      ]
     },
     "execution_count": 34,
     "metadata": {},
     "output_type": "execute_result"
    },
    {
     "data": {
      "image/png": "[encoded data removed]",
      "text/plain": [
       "<matplotlib.figure.Figure at 0x13601fd0>"
      ]
     },
     "metadata": {},
     "output_type": "display_data"
    }
   ],
   "source": [
    "plt.scatter(bc.entropy, bc.log_rate)"
   ]
  },
  {
   "cell_type": "markdown",
   "metadata": {},
   "source": [
    "## Co-occurrence and Degree"
   ]
  },
  {
   "cell_type": "code",
   "execution_count": 35,
   "metadata": {
    "collapsed": false
   },
   "outputs": [
    {
     "data": {
      "text/html": [
       "<div>\n",
       "<table border=\"1\" class=\"dataframe\">\n",
       "  <thead>\n",
       "    <tr style=\"text-align: right;\">\n",
       "      <th></th>\n",
       "      <th>COUNTYFP</th>\n",
       "      <th>FUNCSTAT</th>\n",
       "      <th>GEOID</th>\n",
       "      <th>INTPTLAT</th>\n",
       "      <th>INTPTLON</th>\n",
       "      <th>MTFCC</th>\n",
       "      <th>NAME</th>\n",
       "      <th>NAMELSAD</th>\n",
       "      <th>RID</th>\n",
       "      <th>STATEFP</th>\n",
       "      <th>TRACTCE</th>\n",
       "      <th>code</th>\n",
       "      <th>geometry</th>\n",
       "      <th>rate</th>\n",
       "    </tr>\n",
       "  </thead>\n",
       "  <tbody>\n",
       "    <tr>\n",
       "      <th>0</th>\n",
       "      <td>047</td>\n",
       "      <td>S</td>\n",
       "      <td>8047013800</td>\n",
       "      <td>+39.8610823</td>\n",
       "      <td>-105.5289473</td>\n",
       "      <td>G5020</td>\n",
       "      <td>138</td>\n",
       "      <td>Census Tract 138</td>\n",
       "      <td>57</td>\n",
       "      <td>08</td>\n",
       "      <td>013800</td>\n",
       "      <td>08047</td>\n",
       "      <td>POLYGON ((-105.700784 39.878889, -105.700777 3...</td>\n",
       "      <td>0.070000</td>\n",
       "    </tr>\n",
       "    <tr>\n",
       "      <th>1</th>\n",
       "      <td>039</td>\n",
       "      <td>S</td>\n",
       "      <td>8039961209</td>\n",
       "      <td>+39.2219883</td>\n",
       "      <td>-104.5372888</td>\n",
       "      <td>G5020</td>\n",
       "      <td>9612.09</td>\n",
       "      <td>Census Tract 9612.09</td>\n",
       "      <td>40</td>\n",
       "      <td>08</td>\n",
       "      <td>961209</td>\n",
       "      <td>08039</td>\n",
       "      <td>POLYGON ((-104.662911 39.13184, -104.662929 39...</td>\n",
       "      <td>0.120000</td>\n",
       "    </tr>\n",
       "    <tr>\n",
       "      <th>2</th>\n",
       "      <td>039</td>\n",
       "      <td>S</td>\n",
       "      <td>8039961208</td>\n",
       "      <td>+39.3047374</td>\n",
       "      <td>-104.5835294</td>\n",
       "      <td>G5020</td>\n",
       "      <td>9612.08</td>\n",
       "      <td>Census Tract 9612.08</td>\n",
       "      <td>19</td>\n",
       "      <td>08</td>\n",
       "      <td>961208</td>\n",
       "      <td>08039</td>\n",
       "      <td>POLYGON ((-104.662955 39.216802, -104.662947 3...</td>\n",
       "      <td>0.140000</td>\n",
       "    </tr>\n",
       "    <tr>\n",
       "      <th>3</th>\n",
       "      <td>039</td>\n",
       "      <td>S</td>\n",
       "      <td>8039961207</td>\n",
       "      <td>+39.4108496</td>\n",
       "      <td>-104.5420129</td>\n",
       "      <td>G5020</td>\n",
       "      <td>9612.07</td>\n",
       "      <td>Census Tract 9612.07</td>\n",
       "      <td>19</td>\n",
       "      <td>08</td>\n",
       "      <td>961207</td>\n",
       "      <td>08039</td>\n",
       "      <td>POLYGON ((-104.606923 39.361336, -104.606833 3...</td>\n",
       "      <td>0.180000</td>\n",
       "    </tr>\n",
       "    <tr>\n",
       "      <th>4</th>\n",
       "      <td>039</td>\n",
       "      <td>S</td>\n",
       "      <td>8039961206</td>\n",
       "      <td>+39.4125779</td>\n",
       "      <td>-104.6348187</td>\n",
       "      <td>G5020</td>\n",
       "      <td>9612.06</td>\n",
       "      <td>Census Tract 9612.06</td>\n",
       "      <td>68</td>\n",
       "      <td>08</td>\n",
       "      <td>961206</td>\n",
       "      <td>08039</td>\n",
       "      <td>POLYGON ((-104.663196 39.362143, -104.663198 3...</td>\n",
       "      <td>0.149425</td>\n",
       "    </tr>\n",
       "  </tbody>\n",
       "</table>\n",
       "</div>"
      ],
      "text/plain": [
       "  COUNTYFP FUNCSTAT       GEOID     INTPTLAT      INTPTLON  MTFCC     NAME  \\\n",
       "0      047        S  8047013800  +39.8610823  -105.5289473  G5020      138   \n",
       "1      039        S  8039961209  +39.2219883  -104.5372888  G5020  9612.09   \n",
       "2      039        S  8039961208  +39.3047374  -104.5835294  G5020  9612.08   \n",
       "3      039        S  8039961207  +39.4108496  -104.5420129  G5020  9612.07   \n",
       "4      039        S  8039961206  +39.4125779  -104.6348187  G5020  9612.06   \n",
       "\n",
       "               NAMELSAD  RID STATEFP TRACTCE   code  \\\n",
       "0      Census Tract 138   57      08  013800  08047   \n",
       "1  Census Tract 9612.09   40      08  961209  08039   \n",
       "2  Census Tract 9612.08   19      08  961208  08039   \n",
       "3  Census Tract 9612.07   19      08  961207  08039   \n",
       "4  Census Tract 9612.06   68      08  961206  08039   \n",
       "\n",
       "                                            geometry      rate  \n",
       "0  POLYGON ((-105.700784 39.878889, -105.700777 3...  0.070000  \n",
       "1  POLYGON ((-104.662911 39.13184, -104.662929 39...  0.120000  \n",
       "2  POLYGON ((-104.662955 39.216802, -104.662947 3...  0.140000  \n",
       "3  POLYGON ((-104.606923 39.361336, -104.606833 3...  0.180000  \n",
       "4  POLYGON ((-104.663196 39.362143, -104.663198 3...  0.149425  "
      ]
     },
     "execution_count": 35,
     "metadata": {},
     "output_type": "execute_result"
    }
   ],
   "source": [
    "# read co-oc rate\n",
    "cooc.head()"
   ]
  },
  {
   "cell_type": "code",
   "execution_count": 36,
   "metadata": {
    "collapsed": false
   },
   "outputs": [
    {
     "data": {
      "text/html": [
       "<div>\n",
       "<table border=\"1\" class=\"dataframe\">\n",
       "  <thead>\n",
       "    <tr style=\"text-align: right;\">\n",
       "      <th></th>\n",
       "      <th>GEOID</th>\n",
       "      <th>degree</th>\n",
       "    </tr>\n",
       "  </thead>\n",
       "  <tbody>\n",
       "    <tr>\n",
       "      <th>0</th>\n",
       "      <td>8005007101</td>\n",
       "      <td>50</td>\n",
       "    </tr>\n",
       "    <tr>\n",
       "      <th>1</th>\n",
       "      <td>8005007103</td>\n",
       "      <td>87</td>\n",
       "    </tr>\n",
       "    <tr>\n",
       "      <th>2</th>\n",
       "      <td>8005007104</td>\n",
       "      <td>76</td>\n",
       "    </tr>\n",
       "    <tr>\n",
       "      <th>3</th>\n",
       "      <td>8005007105</td>\n",
       "      <td>66</td>\n",
       "    </tr>\n",
       "    <tr>\n",
       "      <th>4</th>\n",
       "      <td>8005007106</td>\n",
       "      <td>104</td>\n",
       "    </tr>\n",
       "  </tbody>\n",
       "</table>\n",
       "</div>"
      ],
      "text/plain": [
       "        GEOID  degree\n",
       "0  8005007101      50\n",
       "1  8005007103      87\n",
       "2  8005007104      76\n",
       "3  8005007105      66\n",
       "4  8005007106     104"
      ]
     },
     "execution_count": 36,
     "metadata": {},
     "output_type": "execute_result"
    }
   ],
   "source": [
    "a.head()"
   ]
  },
  {
   "cell_type": "code",
   "execution_count": 37,
   "metadata": {
    "collapsed": true
   },
   "outputs": [],
   "source": [
    "cd = pd.merge(cooc, a, on=[\"GEOID\"])"
   ]
  },
  {
   "cell_type": "code",
   "execution_count": 40,
   "metadata": {
    "collapsed": true
   },
   "outputs": [],
   "source": [
    "cd['log_rate'] = cd.rate.map(lambda x: math.log(x))"
   ]
  },
  {
   "cell_type": "code",
   "execution_count": 41,
   "metadata": {
    "collapsed": false
   },
   "outputs": [
    {
     "name": "stdout",
     "output_type": "stream",
     "text": [
      "                            OLS Regression Results                            \n",
      "==============================================================================\n",
      "Dep. Variable:                 degree   R-squared:                       0.257\n",
      "Model:                            OLS   Adj. R-squared:                  0.255\n",
      "Method:                 Least Squares   F-statistic:                     211.2\n",
      "Date:                Fri, 18 Nov 2016   Prob (F-statistic):           2.57e-41\n",
      "Time:                        08:31:12   Log-Likelihood:                -2629.0\n",
      "No. Observations:                 614   AIC:                             5262.\n",
      "Df Residuals:                     612   BIC:                             5271.\n",
      "Df Model:                           1                                         \n",
      "Covariance Type:            nonrobust                                         \n",
      "==============================================================================\n",
      "                 coef    std err          t      P>|t|      [95.0% Conf. Int.]\n",
      "------------------------------------------------------------------------------\n",
      "Intercept     92.0255      3.927     23.436      0.000        84.314    99.737\n",
      "log_rate      24.1522      1.662     14.531      0.000        20.888    27.416\n",
      "==============================================================================\n",
      "Omnibus:                       23.793   Durbin-Watson:                   1.417\n",
      "Prob(Omnibus):                  0.000   Jarque-Bera (JB):               28.646\n",
      "Skew:                           0.403   Prob(JB):                     6.02e-07\n",
      "Kurtosis:                       3.686   Cond. No.                         15.4\n",
      "==============================================================================\n",
      "\n",
      "Warnings:\n",
      "[1] Standard Errors assume that the covariance matrix of the errors is correctly specified.\n"
     ]
    }
   ],
   "source": [
    "result = sm.ols(formula=\"degree ~ log_rate\", data=cd, missing='drop').fit()\n",
    "print result.summary()"
   ]
  },
  {
   "cell_type": "code",
   "execution_count": 42,
   "metadata": {
    "collapsed": false
   },
   "outputs": [
    {
     "data": {
      "text/plain": [
       "<matplotlib.collections.PathCollection at 0x14827d68>"
      ]
     },
     "execution_count": 42,
     "metadata": {},
     "output_type": "execute_result"
    },
    {
     "data": {
      "image/png": "[encoded data removed]",
      "text/plain": [
       "<matplotlib.figure.Figure at 0x13984cc0>"
      ]
     },
     "metadata": {},
     "output_type": "display_data"
    }
   ],
   "source": [
    "plt.scatter(cd.degree, cd.log_rate)"
   ]
  },
  {
   "cell_type": "code",
   "execution_count": null,
   "metadata": {
    "collapsed": true
   },
   "outputs": [],
   "source": []
  }
 ],
 "metadata": {
  "kernelspec": {
   "display_name": "Python 2",
   "language": "python",
   "name": "python2"
  },
  "language_info": {
   "codemirror_mode": {
    "name": "ipython",
    "version": 2
   },
   "file_extension": ".py",
   "mimetype": "text/x-python",
   "name": "python",
   "nbconvert_exporter": "python",
   "pygments_lexer": "ipython2",
   "version": "2.7.10"
  }
 },
 "nbformat": 4,
 "nbformat_minor": 0
}
